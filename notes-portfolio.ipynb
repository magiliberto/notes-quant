{
 "cells": [
  {
   "cell_type": "code",
   "execution_count": 96,
   "id": "afa08a7f-6508-43eb-b303-5b8bf2024c28",
   "metadata": {},
   "outputs": [],
   "source": [
    "%load_ext autoreload\n",
    "%autoreload 2"
   ]
  },
  {
   "cell_type": "code",
   "execution_count": 27,
   "id": "64f12d2e-e367-4853-934e-558d83ff8281",
   "metadata": {},
   "outputs": [
    {
     "data": {
      "text/html": [
       "<div>\n",
       "<style scoped>\n",
       "    .dataframe tbody tr th:only-of-type {\n",
       "        vertical-align: middle;\n",
       "    }\n",
       "\n",
       "    .dataframe tbody tr th {\n",
       "        vertical-align: top;\n",
       "    }\n",
       "\n",
       "    .dataframe thead th {\n",
       "        text-align: right;\n",
       "    }\n",
       "</style>\n",
       "<table border=\"1\" class=\"dataframe\">\n",
       "  <thead>\n",
       "    <tr style=\"text-align: right;\">\n",
       "      <th></th>\n",
       "      <th>BLUE</th>\n",
       "      <th>ORANGE</th>\n",
       "    </tr>\n",
       "  </thead>\n",
       "  <tbody>\n",
       "    <tr>\n",
       "      <th>0</th>\n",
       "      <td>8.7000</td>\n",
       "      <td>10.6600</td>\n",
       "    </tr>\n",
       "    <tr>\n",
       "      <th>1</th>\n",
       "      <td>8.9055</td>\n",
       "      <td>11.0828</td>\n",
       "    </tr>\n",
       "    <tr>\n",
       "      <th>2</th>\n",
       "      <td>8.7113</td>\n",
       "      <td>10.7100</td>\n",
       "    </tr>\n",
       "    <tr>\n",
       "      <th>3</th>\n",
       "      <td>8.4346</td>\n",
       "      <td>11.5907</td>\n",
       "    </tr>\n",
       "    <tr>\n",
       "      <th>4</th>\n",
       "      <td>8.7254</td>\n",
       "      <td>12.1070</td>\n",
       "    </tr>\n",
       "    <tr>\n",
       "      <th>5</th>\n",
       "      <td>9.0551</td>\n",
       "      <td>11.7876</td>\n",
       "    </tr>\n",
       "    <tr>\n",
       "      <th>6</th>\n",
       "      <td>8.9514</td>\n",
       "      <td>11.2078</td>\n",
       "    </tr>\n",
       "    <tr>\n",
       "      <th>7</th>\n",
       "      <td>9.2439</td>\n",
       "      <td>12.5192</td>\n",
       "    </tr>\n",
       "    <tr>\n",
       "      <th>8</th>\n",
       "      <td>9.1276</td>\n",
       "      <td>13.3624</td>\n",
       "    </tr>\n",
       "    <tr>\n",
       "      <th>9</th>\n",
       "      <td>9.3976</td>\n",
       "      <td>14.4080</td>\n",
       "    </tr>\n",
       "    <tr>\n",
       "      <th>10</th>\n",
       "      <td>9.4554</td>\n",
       "      <td>11.9837</td>\n",
       "    </tr>\n",
       "    <tr>\n",
       "      <th>11</th>\n",
       "      <td>9.5704</td>\n",
       "      <td>12.2718</td>\n",
       "    </tr>\n",
       "    <tr>\n",
       "      <th>12</th>\n",
       "      <td>9.7728</td>\n",
       "      <td>11.5892</td>\n",
       "    </tr>\n",
       "  </tbody>\n",
       "</table>\n",
       "</div>"
      ],
      "text/plain": [
       "      BLUE   ORANGE\n",
       "0   8.7000  10.6600\n",
       "1   8.9055  11.0828\n",
       "2   8.7113  10.7100\n",
       "3   8.4346  11.5907\n",
       "4   8.7254  12.1070\n",
       "5   9.0551  11.7876\n",
       "6   8.9514  11.2078\n",
       "7   9.2439  12.5192\n",
       "8   9.1276  13.3624\n",
       "9   9.3976  14.4080\n",
       "10  9.4554  11.9837\n",
       "11  9.5704  12.2718\n",
       "12  9.7728  11.5892"
      ]
     },
     "execution_count": 27,
     "metadata": {},
     "output_type": "execute_result"
    }
   ],
   "source": [
    "import numpy as np\n",
    "import pandas as pd\n",
    "prices = pd.read_csv('class-notes/notebooks_and_codem01_v02/nb/data/sample_prices.csv')\n",
    "prices"
   ]
  },
  {
   "cell_type": "code",
   "execution_count": 84,
   "id": "141410f7-fe0d-4da0-b388-cb28d1872791",
   "metadata": {},
   "outputs": [
    {
     "data": {
      "text/plain": [
       "<AxesSubplot:>"
      ]
     },
     "execution_count": 84,
     "metadata": {},
     "output_type": "execute_result"
    },
    {
     "data": {
      "image/png": "[encoded data removed]",
      "text/plain": [
       "<Figure size 640x480 with 1 Axes>"
      ]
     },
     "metadata": {},
     "output_type": "display_data"
    }
   ],
   "source": [
    "prices.plot()"
   ]
  },
  {
   "cell_type": "markdown",
   "id": "7f2dd2ee-e2d5-477c-afba-66ecadb689e4",
   "metadata": {},
   "source": [
    "# Returns"
   ]
  },
  {
   "cell_type": "markdown",
   "id": "fa14e5f3-56f7-43e8-b627-d30fcd7993f7",
   "metadata": {},
   "source": [
    "$$ R_{t, t+1} = \\frac{P_{t+1}}{P_{t}} - 1 $$"
   ]
  },
  {
   "cell_type": "code",
   "execution_count": 33,
   "id": "df0124f9-dbf8-4318-90d5-df8e41aa0743",
   "metadata": {},
   "outputs": [
    {
     "data": {
      "text/html": [
       "<div>\n",
       "<style scoped>\n",
       "    .dataframe tbody tr th:only-of-type {\n",
       "        vertical-align: middle;\n",
       "    }\n",
       "\n",
       "    .dataframe tbody tr th {\n",
       "        vertical-align: top;\n",
       "    }\n",
       "\n",
       "    .dataframe thead th {\n",
       "        text-align: right;\n",
       "    }\n",
       "</style>\n",
       "<table border=\"1\" class=\"dataframe\">\n",
       "  <thead>\n",
       "    <tr style=\"text-align: right;\">\n",
       "      <th></th>\n",
       "      <th>BLUE</th>\n",
       "      <th>ORANGE</th>\n",
       "    </tr>\n",
       "  </thead>\n",
       "  <tbody>\n",
       "    <tr>\n",
       "      <th>1</th>\n",
       "      <td>8.9055</td>\n",
       "      <td>11.0828</td>\n",
       "    </tr>\n",
       "    <tr>\n",
       "      <th>2</th>\n",
       "      <td>8.7113</td>\n",
       "      <td>10.7100</td>\n",
       "    </tr>\n",
       "    <tr>\n",
       "      <th>3</th>\n",
       "      <td>8.4346</td>\n",
       "      <td>11.5907</td>\n",
       "    </tr>\n",
       "    <tr>\n",
       "      <th>4</th>\n",
       "      <td>8.7254</td>\n",
       "      <td>12.1070</td>\n",
       "    </tr>\n",
       "    <tr>\n",
       "      <th>5</th>\n",
       "      <td>9.0551</td>\n",
       "      <td>11.7876</td>\n",
       "    </tr>\n",
       "    <tr>\n",
       "      <th>6</th>\n",
       "      <td>8.9514</td>\n",
       "      <td>11.2078</td>\n",
       "    </tr>\n",
       "    <tr>\n",
       "      <th>7</th>\n",
       "      <td>9.2439</td>\n",
       "      <td>12.5192</td>\n",
       "    </tr>\n",
       "    <tr>\n",
       "      <th>8</th>\n",
       "      <td>9.1276</td>\n",
       "      <td>13.3624</td>\n",
       "    </tr>\n",
       "    <tr>\n",
       "      <th>9</th>\n",
       "      <td>9.3976</td>\n",
       "      <td>14.4080</td>\n",
       "    </tr>\n",
       "    <tr>\n",
       "      <th>10</th>\n",
       "      <td>9.4554</td>\n",
       "      <td>11.9837</td>\n",
       "    </tr>\n",
       "    <tr>\n",
       "      <th>11</th>\n",
       "      <td>9.5704</td>\n",
       "      <td>12.2718</td>\n",
       "    </tr>\n",
       "    <tr>\n",
       "      <th>12</th>\n",
       "      <td>9.7728</td>\n",
       "      <td>11.5892</td>\n",
       "    </tr>\n",
       "  </tbody>\n",
       "</table>\n",
       "</div>"
      ],
      "text/plain": [
       "      BLUE   ORANGE\n",
       "1   8.9055  11.0828\n",
       "2   8.7113  10.7100\n",
       "3   8.4346  11.5907\n",
       "4   8.7254  12.1070\n",
       "5   9.0551  11.7876\n",
       "6   8.9514  11.2078\n",
       "7   9.2439  12.5192\n",
       "8   9.1276  13.3624\n",
       "9   9.3976  14.4080\n",
       "10  9.4554  11.9837\n",
       "11  9.5704  12.2718\n",
       "12  9.7728  11.5892"
      ]
     },
     "execution_count": 33,
     "metadata": {},
     "output_type": "execute_result"
    }
   ],
   "source": [
    "prices[1:]"
   ]
  },
  {
   "cell_type": "code",
   "execution_count": 35,
   "id": "ba4fab0c-a8b4-46c4-9923-bc517bb1ff64",
   "metadata": {},
   "outputs": [
    {
     "data": {
      "text/html": [
       "<div>\n",
       "<style scoped>\n",
       "    .dataframe tbody tr th:only-of-type {\n",
       "        vertical-align: middle;\n",
       "    }\n",
       "\n",
       "    .dataframe tbody tr th {\n",
       "        vertical-align: top;\n",
       "    }\n",
       "\n",
       "    .dataframe thead th {\n",
       "        text-align: right;\n",
       "    }\n",
       "</style>\n",
       "<table border=\"1\" class=\"dataframe\">\n",
       "  <thead>\n",
       "    <tr style=\"text-align: right;\">\n",
       "      <th></th>\n",
       "      <th>BLUE</th>\n",
       "      <th>ORANGE</th>\n",
       "    </tr>\n",
       "  </thead>\n",
       "  <tbody>\n",
       "    <tr>\n",
       "      <th>0</th>\n",
       "      <td>8.7000</td>\n",
       "      <td>10.6600</td>\n",
       "    </tr>\n",
       "    <tr>\n",
       "      <th>1</th>\n",
       "      <td>8.9055</td>\n",
       "      <td>11.0828</td>\n",
       "    </tr>\n",
       "    <tr>\n",
       "      <th>2</th>\n",
       "      <td>8.7113</td>\n",
       "      <td>10.7100</td>\n",
       "    </tr>\n",
       "    <tr>\n",
       "      <th>3</th>\n",
       "      <td>8.4346</td>\n",
       "      <td>11.5907</td>\n",
       "    </tr>\n",
       "    <tr>\n",
       "      <th>4</th>\n",
       "      <td>8.7254</td>\n",
       "      <td>12.1070</td>\n",
       "    </tr>\n",
       "    <tr>\n",
       "      <th>5</th>\n",
       "      <td>9.0551</td>\n",
       "      <td>11.7876</td>\n",
       "    </tr>\n",
       "    <tr>\n",
       "      <th>6</th>\n",
       "      <td>8.9514</td>\n",
       "      <td>11.2078</td>\n",
       "    </tr>\n",
       "    <tr>\n",
       "      <th>7</th>\n",
       "      <td>9.2439</td>\n",
       "      <td>12.5192</td>\n",
       "    </tr>\n",
       "    <tr>\n",
       "      <th>8</th>\n",
       "      <td>9.1276</td>\n",
       "      <td>13.3624</td>\n",
       "    </tr>\n",
       "    <tr>\n",
       "      <th>9</th>\n",
       "      <td>9.3976</td>\n",
       "      <td>14.4080</td>\n",
       "    </tr>\n",
       "    <tr>\n",
       "      <th>10</th>\n",
       "      <td>9.4554</td>\n",
       "      <td>11.9837</td>\n",
       "    </tr>\n",
       "    <tr>\n",
       "      <th>11</th>\n",
       "      <td>9.5704</td>\n",
       "      <td>12.2718</td>\n",
       "    </tr>\n",
       "  </tbody>\n",
       "</table>\n",
       "</div>"
      ],
      "text/plain": [
       "      BLUE   ORANGE\n",
       "0   8.7000  10.6600\n",
       "1   8.9055  11.0828\n",
       "2   8.7113  10.7100\n",
       "3   8.4346  11.5907\n",
       "4   8.7254  12.1070\n",
       "5   9.0551  11.7876\n",
       "6   8.9514  11.2078\n",
       "7   9.2439  12.5192\n",
       "8   9.1276  13.3624\n",
       "9   9.3976  14.4080\n",
       "10  9.4554  11.9837\n",
       "11  9.5704  12.2718"
      ]
     },
     "execution_count": 35,
     "metadata": {},
     "output_type": "execute_result"
    }
   ],
   "source": [
    "prices[:-1]"
   ]
  },
  {
   "cell_type": "code",
   "execution_count": 53,
   "id": "97c24ef4-7b7b-49f5-bf76-848dce9b9edc",
   "metadata": {},
   "outputs": [
    {
     "data": {
      "text/html": [
       "<div>\n",
       "<style scoped>\n",
       "    .dataframe tbody tr th:only-of-type {\n",
       "        vertical-align: middle;\n",
       "    }\n",
       "\n",
       "    .dataframe tbody tr th {\n",
       "        vertical-align: top;\n",
       "    }\n",
       "\n",
       "    .dataframe thead th {\n",
       "        text-align: right;\n",
       "    }\n",
       "</style>\n",
       "<table border=\"1\" class=\"dataframe\">\n",
       "  <thead>\n",
       "    <tr style=\"text-align: right;\">\n",
       "      <th></th>\n",
       "      <th>BLUE</th>\n",
       "      <th>ORANGE</th>\n",
       "    </tr>\n",
       "  </thead>\n",
       "  <tbody>\n",
       "    <tr>\n",
       "      <th>1</th>\n",
       "      <td>0.023621</td>\n",
       "      <td>0.039662</td>\n",
       "    </tr>\n",
       "    <tr>\n",
       "      <th>2</th>\n",
       "      <td>-0.021807</td>\n",
       "      <td>-0.033638</td>\n",
       "    </tr>\n",
       "    <tr>\n",
       "      <th>3</th>\n",
       "      <td>-0.031763</td>\n",
       "      <td>0.082232</td>\n",
       "    </tr>\n",
       "    <tr>\n",
       "      <th>4</th>\n",
       "      <td>0.034477</td>\n",
       "      <td>0.044544</td>\n",
       "    </tr>\n",
       "    <tr>\n",
       "      <th>5</th>\n",
       "      <td>0.037786</td>\n",
       "      <td>-0.026381</td>\n",
       "    </tr>\n",
       "    <tr>\n",
       "      <th>6</th>\n",
       "      <td>-0.011452</td>\n",
       "      <td>-0.049187</td>\n",
       "    </tr>\n",
       "    <tr>\n",
       "      <th>7</th>\n",
       "      <td>0.032676</td>\n",
       "      <td>0.117008</td>\n",
       "    </tr>\n",
       "    <tr>\n",
       "      <th>8</th>\n",
       "      <td>-0.012581</td>\n",
       "      <td>0.067353</td>\n",
       "    </tr>\n",
       "    <tr>\n",
       "      <th>9</th>\n",
       "      <td>0.029581</td>\n",
       "      <td>0.078249</td>\n",
       "    </tr>\n",
       "    <tr>\n",
       "      <th>10</th>\n",
       "      <td>0.006151</td>\n",
       "      <td>-0.168261</td>\n",
       "    </tr>\n",
       "    <tr>\n",
       "      <th>11</th>\n",
       "      <td>0.012162</td>\n",
       "      <td>0.024041</td>\n",
       "    </tr>\n",
       "    <tr>\n",
       "      <th>12</th>\n",
       "      <td>0.021149</td>\n",
       "      <td>-0.055623</td>\n",
       "    </tr>\n",
       "  </tbody>\n",
       "</table>\n",
       "</div>"
      ],
      "text/plain": [
       "        BLUE    ORANGE\n",
       "1   0.023621  0.039662\n",
       "2  -0.021807 -0.033638\n",
       "3  -0.031763  0.082232\n",
       "4   0.034477  0.044544\n",
       "5   0.037786 -0.026381\n",
       "6  -0.011452 -0.049187\n",
       "7   0.032676  0.117008\n",
       "8  -0.012581  0.067353\n",
       "9   0.029581  0.078249\n",
       "10  0.006151 -0.168261\n",
       "11  0.012162  0.024041\n",
       "12  0.021149 -0.055623"
      ]
     },
     "execution_count": 53,
     "metadata": {},
     "output_type": "execute_result"
    }
   ],
   "source": [
    "prices.iloc[1:] / prices.iloc[:-1].values - 1"
   ]
  },
  {
   "cell_type": "code",
   "execution_count": 52,
   "id": "8051ea2e-42f2-42c2-a9f2-050e439f245d",
   "metadata": {},
   "outputs": [
    {
     "data": {
      "text/html": [
       "<div>\n",
       "<style scoped>\n",
       "    .dataframe tbody tr th:only-of-type {\n",
       "        vertical-align: middle;\n",
       "    }\n",
       "\n",
       "    .dataframe tbody tr th {\n",
       "        vertical-align: top;\n",
       "    }\n",
       "\n",
       "    .dataframe thead th {\n",
       "        text-align: right;\n",
       "    }\n",
       "</style>\n",
       "<table border=\"1\" class=\"dataframe\">\n",
       "  <thead>\n",
       "    <tr style=\"text-align: right;\">\n",
       "      <th></th>\n",
       "      <th>BLUE</th>\n",
       "      <th>ORANGE</th>\n",
       "    </tr>\n",
       "  </thead>\n",
       "  <tbody>\n",
       "    <tr>\n",
       "      <th>0</th>\n",
       "      <td>NaN</td>\n",
       "      <td>NaN</td>\n",
       "    </tr>\n",
       "    <tr>\n",
       "      <th>1</th>\n",
       "      <td>0.023621</td>\n",
       "      <td>0.039662</td>\n",
       "    </tr>\n",
       "    <tr>\n",
       "      <th>2</th>\n",
       "      <td>-0.021807</td>\n",
       "      <td>-0.033638</td>\n",
       "    </tr>\n",
       "    <tr>\n",
       "      <th>3</th>\n",
       "      <td>-0.031763</td>\n",
       "      <td>0.082232</td>\n",
       "    </tr>\n",
       "    <tr>\n",
       "      <th>4</th>\n",
       "      <td>0.034477</td>\n",
       "      <td>0.044544</td>\n",
       "    </tr>\n",
       "    <tr>\n",
       "      <th>5</th>\n",
       "      <td>0.037786</td>\n",
       "      <td>-0.026381</td>\n",
       "    </tr>\n",
       "    <tr>\n",
       "      <th>6</th>\n",
       "      <td>-0.011452</td>\n",
       "      <td>-0.049187</td>\n",
       "    </tr>\n",
       "    <tr>\n",
       "      <th>7</th>\n",
       "      <td>0.032676</td>\n",
       "      <td>0.117008</td>\n",
       "    </tr>\n",
       "    <tr>\n",
       "      <th>8</th>\n",
       "      <td>-0.012581</td>\n",
       "      <td>0.067353</td>\n",
       "    </tr>\n",
       "    <tr>\n",
       "      <th>9</th>\n",
       "      <td>0.029581</td>\n",
       "      <td>0.078249</td>\n",
       "    </tr>\n",
       "    <tr>\n",
       "      <th>10</th>\n",
       "      <td>0.006151</td>\n",
       "      <td>-0.168261</td>\n",
       "    </tr>\n",
       "    <tr>\n",
       "      <th>11</th>\n",
       "      <td>0.012162</td>\n",
       "      <td>0.024041</td>\n",
       "    </tr>\n",
       "    <tr>\n",
       "      <th>12</th>\n",
       "      <td>0.021149</td>\n",
       "      <td>-0.055623</td>\n",
       "    </tr>\n",
       "  </tbody>\n",
       "</table>\n",
       "</div>"
      ],
      "text/plain": [
       "        BLUE    ORANGE\n",
       "0        NaN       NaN\n",
       "1   0.023621  0.039662\n",
       "2  -0.021807 -0.033638\n",
       "3  -0.031763  0.082232\n",
       "4   0.034477  0.044544\n",
       "5   0.037786 -0.026381\n",
       "6  -0.011452 -0.049187\n",
       "7   0.032676  0.117008\n",
       "8  -0.012581  0.067353\n",
       "9   0.029581  0.078249\n",
       "10  0.006151 -0.168261\n",
       "11  0.012162  0.024041\n",
       "12  0.021149 -0.055623"
      ]
     },
     "execution_count": 52,
     "metadata": {},
     "output_type": "execute_result"
    }
   ],
   "source": [
    "prices / prices.shift(1) -1 "
   ]
  },
  {
   "cell_type": "code",
   "execution_count": 55,
   "id": "6c6f4ec3-ff77-4122-bce7-3c5b7b1bae0e",
   "metadata": {},
   "outputs": [
    {
     "data": {
      "text/html": [
       "<div>\n",
       "<style scoped>\n",
       "    .dataframe tbody tr th:only-of-type {\n",
       "        vertical-align: middle;\n",
       "    }\n",
       "\n",
       "    .dataframe tbody tr th {\n",
       "        vertical-align: top;\n",
       "    }\n",
       "\n",
       "    .dataframe thead th {\n",
       "        text-align: right;\n",
       "    }\n",
       "</style>\n",
       "<table border=\"1\" class=\"dataframe\">\n",
       "  <thead>\n",
       "    <tr style=\"text-align: right;\">\n",
       "      <th></th>\n",
       "      <th>BLUE</th>\n",
       "      <th>ORANGE</th>\n",
       "    </tr>\n",
       "  </thead>\n",
       "  <tbody>\n",
       "    <tr>\n",
       "      <th>0</th>\n",
       "      <td>NaN</td>\n",
       "      <td>NaN</td>\n",
       "    </tr>\n",
       "    <tr>\n",
       "      <th>1</th>\n",
       "      <td>0.023621</td>\n",
       "      <td>0.039662</td>\n",
       "    </tr>\n",
       "    <tr>\n",
       "      <th>2</th>\n",
       "      <td>-0.021807</td>\n",
       "      <td>-0.033638</td>\n",
       "    </tr>\n",
       "    <tr>\n",
       "      <th>3</th>\n",
       "      <td>-0.031763</td>\n",
       "      <td>0.082232</td>\n",
       "    </tr>\n",
       "    <tr>\n",
       "      <th>4</th>\n",
       "      <td>0.034477</td>\n",
       "      <td>0.044544</td>\n",
       "    </tr>\n",
       "    <tr>\n",
       "      <th>5</th>\n",
       "      <td>0.037786</td>\n",
       "      <td>-0.026381</td>\n",
       "    </tr>\n",
       "    <tr>\n",
       "      <th>6</th>\n",
       "      <td>-0.011452</td>\n",
       "      <td>-0.049187</td>\n",
       "    </tr>\n",
       "    <tr>\n",
       "      <th>7</th>\n",
       "      <td>0.032676</td>\n",
       "      <td>0.117008</td>\n",
       "    </tr>\n",
       "    <tr>\n",
       "      <th>8</th>\n",
       "      <td>-0.012581</td>\n",
       "      <td>0.067353</td>\n",
       "    </tr>\n",
       "    <tr>\n",
       "      <th>9</th>\n",
       "      <td>0.029581</td>\n",
       "      <td>0.078249</td>\n",
       "    </tr>\n",
       "    <tr>\n",
       "      <th>10</th>\n",
       "      <td>0.006151</td>\n",
       "      <td>-0.168261</td>\n",
       "    </tr>\n",
       "    <tr>\n",
       "      <th>11</th>\n",
       "      <td>0.012162</td>\n",
       "      <td>0.024041</td>\n",
       "    </tr>\n",
       "    <tr>\n",
       "      <th>12</th>\n",
       "      <td>0.021149</td>\n",
       "      <td>-0.055623</td>\n",
       "    </tr>\n",
       "  </tbody>\n",
       "</table>\n",
       "</div>"
      ],
      "text/plain": [
       "        BLUE    ORANGE\n",
       "0        NaN       NaN\n",
       "1   0.023621  0.039662\n",
       "2  -0.021807 -0.033638\n",
       "3  -0.031763  0.082232\n",
       "4   0.034477  0.044544\n",
       "5   0.037786 -0.026381\n",
       "6  -0.011452 -0.049187\n",
       "7   0.032676  0.117008\n",
       "8  -0.012581  0.067353\n",
       "9   0.029581  0.078249\n",
       "10  0.006151 -0.168261\n",
       "11  0.012162  0.024041\n",
       "12  0.021149 -0.055623"
      ]
     },
     "execution_count": 55,
     "metadata": {},
     "output_type": "execute_result"
    }
   ],
   "source": [
    "returns = prices.pct_change()\n",
    "returns"
   ]
  },
  {
   "cell_type": "code",
   "execution_count": 85,
   "id": "125a2578-6cd1-4599-979c-dcc141800939",
   "metadata": {},
   "outputs": [
    {
     "data": {
      "text/plain": [
       "<AxesSubplot:>"
      ]
     },
     "execution_count": 85,
     "metadata": {},
     "output_type": "execute_result"
    },
    {
     "data": {
      "image/png": "[encoded data removed]",
      "text/plain": [
       "<Figure size 640x480 with 1 Axes>"
      ]
     },
     "metadata": {},
     "output_type": "display_data"
    }
   ],
   "source": [
    "returns.plot.bar()"
   ]
  },
  {
   "cell_type": "markdown",
   "id": "6a80b6fc-9815-4dd1-b3e5-9df27a6fb45c",
   "metadata": {},
   "source": [
    "# Compounding Returns"
   ]
  },
  {
   "cell_type": "markdown",
   "id": "147ab235-7cc5-411c-94a2-d245d90618c5",
   "metadata": {},
   "source": [
    "$$ C_{t} = \\prod_{1}^{t} (1 + R_t) - 1 $$"
   ]
  },
  {
   "cell_type": "code",
   "execution_count": 58,
   "id": "94952dee-5c44-48e8-9324-122dc45b919b",
   "metadata": {},
   "outputs": [
    {
     "data": {
      "text/plain": [
       "BLUE      0.123310\n",
       "ORANGE    0.087167\n",
       "dtype: float64"
      ]
     },
     "execution_count": 58,
     "metadata": {},
     "output_type": "execute_result"
    }
   ],
   "source": [
    "np.prod(returns + 1) - 1"
   ]
  },
  {
   "cell_type": "code",
   "execution_count": 83,
   "id": "ba45f67e-9917-4758-abd5-af4302d3a298",
   "metadata": {},
   "outputs": [
    {
     "data": {
      "text/plain": [
       "BLUE      0.123310\n",
       "ORANGE    0.087167\n",
       "Name: 1, dtype: float64"
      ]
     },
     "execution_count": 83,
     "metadata": {},
     "output_type": "execute_result"
    }
   ],
   "source": [
    "r_c = 1\n",
    "for r in returns.dropna().index:\n",
    "    r_c *= (returns.iloc[r] + 1)\n",
    "\n",
    "r_c - 1"
   ]
  },
  {
   "cell_type": "markdown",
   "id": "36ccb108-74db-4bd1-a06e-ad9e1c3f6100",
   "metadata": {},
   "source": [
    "# Annualized returns"
   ]
  },
  {
   "cell_type": "markdown",
   "id": "7fabe957-4758-4c57-8e96-18aa20342d31",
   "metadata": {},
   "source": [
    "$$  A_{t} = (1 + R_t)^{12} - 1 $$"
   ]
  },
  {
   "cell_type": "code",
   "execution_count": 60,
   "id": "6851fc14-7f88-4f43-b2d8-8691d303456f",
   "metadata": {},
   "outputs": [
    {
     "data": {
      "text/html": [
       "<div>\n",
       "<style scoped>\n",
       "    .dataframe tbody tr th:only-of-type {\n",
       "        vertical-align: middle;\n",
       "    }\n",
       "\n",
       "    .dataframe tbody tr th {\n",
       "        vertical-align: top;\n",
       "    }\n",
       "\n",
       "    .dataframe thead th {\n",
       "        text-align: right;\n",
       "    }\n",
       "</style>\n",
       "<table border=\"1\" class=\"dataframe\">\n",
       "  <thead>\n",
       "    <tr style=\"text-align: right;\">\n",
       "      <th></th>\n",
       "      <th>BLUE</th>\n",
       "      <th>ORANGE</th>\n",
       "    </tr>\n",
       "  </thead>\n",
       "  <tbody>\n",
       "    <tr>\n",
       "      <th>0</th>\n",
       "      <td>NaN</td>\n",
       "      <td>NaN</td>\n",
       "    </tr>\n",
       "    <tr>\n",
       "      <th>1</th>\n",
       "      <td>0.323332</td>\n",
       "      <td>0.594805</td>\n",
       "    </tr>\n",
       "    <tr>\n",
       "      <th>2</th>\n",
       "      <td>-0.232469</td>\n",
       "      <td>-0.336746</td>\n",
       "    </tr>\n",
       "    <tr>\n",
       "      <th>3</th>\n",
       "      <td>-0.321143</td>\n",
       "      <td>1.581323</td>\n",
       "    </tr>\n",
       "    <tr>\n",
       "      <th>4</th>\n",
       "      <td>0.501932</td>\n",
       "      <td>0.687029</td>\n",
       "    </tr>\n",
       "    <tr>\n",
       "      <th>5</th>\n",
       "      <td>0.560612</td>\n",
       "      <td>-0.274452</td>\n",
       "    </tr>\n",
       "    <tr>\n",
       "      <th>6</th>\n",
       "      <td>-0.129091</td>\n",
       "      <td>-0.454066</td>\n",
       "    </tr>\n",
       "    <tr>\n",
       "      <th>7</th>\n",
       "      <td>0.470860</td>\n",
       "      <td>2.772893</td>\n",
       "    </tr>\n",
       "    <tr>\n",
       "      <th>8</th>\n",
       "      <td>-0.140954</td>\n",
       "      <td>1.186224</td>\n",
       "    </tr>\n",
       "    <tr>\n",
       "      <th>9</th>\n",
       "      <td>0.418810</td>\n",
       "      <td>1.469624</td>\n",
       "    </tr>\n",
       "    <tr>\n",
       "      <th>10</th>\n",
       "      <td>0.076355</td>\n",
       "      <td>-0.890391</td>\n",
       "    </tr>\n",
       "    <tr>\n",
       "      <th>11</th>\n",
       "      <td>0.156118</td>\n",
       "      <td>0.329867</td>\n",
       "    </tr>\n",
       "    <tr>\n",
       "      <th>12</th>\n",
       "      <td>0.285485</td>\n",
       "      <td>-0.496798</td>\n",
       "    </tr>\n",
       "  </tbody>\n",
       "</table>\n",
       "</div>"
      ],
      "text/plain": [
       "        BLUE    ORANGE\n",
       "0        NaN       NaN\n",
       "1   0.323332  0.594805\n",
       "2  -0.232469 -0.336746\n",
       "3  -0.321143  1.581323\n",
       "4   0.501932  0.687029\n",
       "5   0.560612 -0.274452\n",
       "6  -0.129091 -0.454066\n",
       "7   0.470860  2.772893\n",
       "8  -0.140954  1.186224\n",
       "9   0.418810  1.469624\n",
       "10  0.076355 -0.890391\n",
       "11  0.156118  0.329867\n",
       "12  0.285485 -0.496798"
      ]
     },
     "execution_count": 60,
     "metadata": {},
     "output_type": "execute_result"
    }
   ],
   "source": [
    "(1 + returns)**12 - 1"
   ]
  },
  {
   "cell_type": "code",
   "execution_count": 86,
   "id": "015e4a71-8505-41fd-9578-80b014b5ff45",
   "metadata": {},
   "outputs": [
    {
     "data": {
      "text/plain": [
       "<AxesSubplot:>"
      ]
     },
     "execution_count": 86,
     "metadata": {},
     "output_type": "execute_result"
    },
    {
     "data": {
      "image/png": "[encoded data removed]",
      "text/plain": [
       "<Figure size 640x480 with 1 Axes>"
      ]
     },
     "metadata": {},
     "output_type": "display_data"
    }
   ],
   "source": [
    "pd.DataFrame((1 + returns)**12 - 1).plot.bar()"
   ]
  },
  {
   "cell_type": "code",
   "execution_count": 19,
   "id": "2f3ef5be-09e8-44d9-b87a-f1c5f9f47046",
   "metadata": {},
   "outputs": [
    {
     "data": {
      "text/plain": [
       "BLUE      0.123310\n",
       "ORANGE    0.087167\n",
       "dtype: float64"
      ]
     },
     "execution_count": 19,
     "metadata": {},
     "output_type": "execute_result"
    }
   ],
   "source": [
    "pd.DataFrame(returns + 1).prod() - 1"
   ]
  },
  {
   "cell_type": "markdown",
   "id": "252defb2-e6c8-459d-aa64-fdf8c16a5e6c",
   "metadata": {},
   "source": [
    "# Annualized mean return"
   ]
  },
  {
   "cell_type": "code",
   "execution_count": 23,
   "id": "0abb4eb9-08c5-49e9-b102-60205b296553",
   "metadata": {},
   "outputs": [
    {
     "data": {
      "text/plain": [
       "BLUE      0.126824\n",
       "ORANGE    0.126823\n",
       "dtype: float64"
      ]
     },
     "execution_count": 23,
     "metadata": {},
     "output_type": "execute_result"
    }
   ],
   "source": [
    "(1 + returns.mean())**12 - 1"
   ]
  },
  {
   "cell_type": "markdown",
   "id": "c837f607-4230-4269-8264-1f229539d1ca",
   "metadata": {},
   "source": [
    "# Mean of annualized returns"
   ]
  },
  {
   "cell_type": "code",
   "execution_count": 92,
   "id": "2201a73c-86d2-4504-9ce5-bd9cf4da1139",
   "metadata": {},
   "outputs": [
    {
     "data": {
      "text/plain": [
       "BLUE      0.164154\n",
       "ORANGE    0.514109\n",
       "dtype: float64"
      ]
     },
     "execution_count": 92,
     "metadata": {},
     "output_type": "execute_result"
    }
   ],
   "source": [
    "((1 + returns)**12 - 1).mean()"
   ]
  },
  {
   "cell_type": "markdown",
   "id": "b09eaa2a-b108-4342-96a7-5a82699261c1",
   "metadata": {},
   "source": [
    "# Volatility and Risk"
   ]
  },
  {
   "cell_type": "code",
   "execution_count": 88,
   "id": "00f168e0-3f62-4ee1-a632-b1f912148fa0",
   "metadata": {},
   "outputs": [
    {
     "data": {
      "text/html": [
       "<div>\n",
       "<style scoped>\n",
       "    .dataframe tbody tr th:only-of-type {\n",
       "        vertical-align: middle;\n",
       "    }\n",
       "\n",
       "    .dataframe tbody tr th {\n",
       "        vertical-align: top;\n",
       "    }\n",
       "\n",
       "    .dataframe thead th {\n",
       "        text-align: right;\n",
       "    }\n",
       "</style>\n",
       "<table border=\"1\" class=\"dataframe\">\n",
       "  <thead>\n",
       "    <tr style=\"text-align: right;\">\n",
       "      <th></th>\n",
       "      <th>&lt;= 0</th>\n",
       "      <th>Lo 30</th>\n",
       "      <th>Med 40</th>\n",
       "      <th>Hi 30</th>\n",
       "      <th>Lo 20</th>\n",
       "      <th>Qnt 2</th>\n",
       "      <th>Qnt 3</th>\n",
       "      <th>Qnt 4</th>\n",
       "      <th>Hi 20</th>\n",
       "      <th>Lo 10</th>\n",
       "      <th>Dec 2</th>\n",
       "      <th>Dec 3</th>\n",
       "      <th>Dec 4</th>\n",
       "      <th>Dec 5</th>\n",
       "      <th>Dec 6</th>\n",
       "      <th>Dec 7</th>\n",
       "      <th>Dec 8</th>\n",
       "      <th>Dec 9</th>\n",
       "      <th>Hi 10</th>\n",
       "    </tr>\n",
       "  </thead>\n",
       "  <tbody>\n",
       "    <tr>\n",
       "      <th>192607</th>\n",
       "      <td>NaN</td>\n",
       "      <td>-0.43</td>\n",
       "      <td>1.52</td>\n",
       "      <td>2.68</td>\n",
       "      <td>-0.57</td>\n",
       "      <td>0.59</td>\n",
       "      <td>1.60</td>\n",
       "      <td>1.47</td>\n",
       "      <td>3.33</td>\n",
       "      <td>-1.45</td>\n",
       "      <td>0.29</td>\n",
       "      <td>-0.15</td>\n",
       "      <td>1.33</td>\n",
       "      <td>1.24</td>\n",
       "      <td>1.98</td>\n",
       "      <td>1.55</td>\n",
       "      <td>1.38</td>\n",
       "      <td>3.38</td>\n",
       "      <td>3.29</td>\n",
       "    </tr>\n",
       "    <tr>\n",
       "      <th>192608</th>\n",
       "      <td>NaN</td>\n",
       "      <td>3.90</td>\n",
       "      <td>3.04</td>\n",
       "      <td>2.09</td>\n",
       "      <td>3.84</td>\n",
       "      <td>3.59</td>\n",
       "      <td>3.71</td>\n",
       "      <td>1.61</td>\n",
       "      <td>2.33</td>\n",
       "      <td>5.12</td>\n",
       "      <td>2.59</td>\n",
       "      <td>4.03</td>\n",
       "      <td>3.15</td>\n",
       "      <td>2.72</td>\n",
       "      <td>4.72</td>\n",
       "      <td>1.60</td>\n",
       "      <td>1.63</td>\n",
       "      <td>0.98</td>\n",
       "      <td>3.70</td>\n",
       "    </tr>\n",
       "    <tr>\n",
       "      <th>192609</th>\n",
       "      <td>NaN</td>\n",
       "      <td>-1.08</td>\n",
       "      <td>-0.54</td>\n",
       "      <td>0.16</td>\n",
       "      <td>-0.48</td>\n",
       "      <td>-1.40</td>\n",
       "      <td>0.00</td>\n",
       "      <td>-0.50</td>\n",
       "      <td>-0.09</td>\n",
       "      <td>0.93</td>\n",
       "      <td>-1.87</td>\n",
       "      <td>-2.27</td>\n",
       "      <td>-0.53</td>\n",
       "      <td>0.07</td>\n",
       "      <td>-0.07</td>\n",
       "      <td>-1.64</td>\n",
       "      <td>0.64</td>\n",
       "      <td>-0.86</td>\n",
       "      <td>0.67</td>\n",
       "    </tr>\n",
       "    <tr>\n",
       "      <th>192610</th>\n",
       "      <td>NaN</td>\n",
       "      <td>-3.32</td>\n",
       "      <td>-3.52</td>\n",
       "      <td>-3.06</td>\n",
       "      <td>-3.29</td>\n",
       "      <td>-4.10</td>\n",
       "      <td>-2.89</td>\n",
       "      <td>-3.36</td>\n",
       "      <td>-2.95</td>\n",
       "      <td>-4.84</td>\n",
       "      <td>-1.77</td>\n",
       "      <td>-3.36</td>\n",
       "      <td>-4.83</td>\n",
       "      <td>-2.98</td>\n",
       "      <td>-2.80</td>\n",
       "      <td>-3.45</td>\n",
       "      <td>-3.27</td>\n",
       "      <td>-3.47</td>\n",
       "      <td>-2.43</td>\n",
       "    </tr>\n",
       "    <tr>\n",
       "      <th>192611</th>\n",
       "      <td>NaN</td>\n",
       "      <td>-0.46</td>\n",
       "      <td>3.82</td>\n",
       "      <td>3.09</td>\n",
       "      <td>-0.55</td>\n",
       "      <td>2.18</td>\n",
       "      <td>3.41</td>\n",
       "      <td>3.39</td>\n",
       "      <td>3.16</td>\n",
       "      <td>-0.78</td>\n",
       "      <td>-0.32</td>\n",
       "      <td>-0.29</td>\n",
       "      <td>4.65</td>\n",
       "      <td>3.24</td>\n",
       "      <td>3.57</td>\n",
       "      <td>3.82</td>\n",
       "      <td>2.95</td>\n",
       "      <td>3.61</td>\n",
       "      <td>2.70</td>\n",
       "    </tr>\n",
       "    <tr>\n",
       "      <th>...</th>\n",
       "      <td>...</td>\n",
       "      <td>...</td>\n",
       "      <td>...</td>\n",
       "      <td>...</td>\n",
       "      <td>...</td>\n",
       "      <td>...</td>\n",
       "      <td>...</td>\n",
       "      <td>...</td>\n",
       "      <td>...</td>\n",
       "      <td>...</td>\n",
       "      <td>...</td>\n",
       "      <td>...</td>\n",
       "      <td>...</td>\n",
       "      <td>...</td>\n",
       "      <td>...</td>\n",
       "      <td>...</td>\n",
       "      <td>...</td>\n",
       "      <td>...</td>\n",
       "      <td>...</td>\n",
       "    </tr>\n",
       "    <tr>\n",
       "      <th>201808</th>\n",
       "      <td>NaN</td>\n",
       "      <td>3.47</td>\n",
       "      <td>4.04</td>\n",
       "      <td>2.87</td>\n",
       "      <td>3.09</td>\n",
       "      <td>5.05</td>\n",
       "      <td>3.90</td>\n",
       "      <td>3.54</td>\n",
       "      <td>2.49</td>\n",
       "      <td>2.41</td>\n",
       "      <td>5.07</td>\n",
       "      <td>5.30</td>\n",
       "      <td>4.70</td>\n",
       "      <td>3.02</td>\n",
       "      <td>5.01</td>\n",
       "      <td>3.50</td>\n",
       "      <td>3.58</td>\n",
       "      <td>2.65</td>\n",
       "      <td>2.34</td>\n",
       "    </tr>\n",
       "    <tr>\n",
       "      <th>201809</th>\n",
       "      <td>NaN</td>\n",
       "      <td>-2.24</td>\n",
       "      <td>-1.85</td>\n",
       "      <td>0.08</td>\n",
       "      <td>-2.04</td>\n",
       "      <td>-2.38</td>\n",
       "      <td>-2.48</td>\n",
       "      <td>-0.74</td>\n",
       "      <td>0.19</td>\n",
       "      <td>-1.68</td>\n",
       "      <td>-3.08</td>\n",
       "      <td>-3.22</td>\n",
       "      <td>-1.23</td>\n",
       "      <td>-2.65</td>\n",
       "      <td>-2.27</td>\n",
       "      <td>-1.31</td>\n",
       "      <td>-0.12</td>\n",
       "      <td>-0.51</td>\n",
       "      <td>0.87</td>\n",
       "    </tr>\n",
       "    <tr>\n",
       "      <th>201810</th>\n",
       "      <td>NaN</td>\n",
       "      <td>-10.76</td>\n",
       "      <td>-10.88</td>\n",
       "      <td>-7.63</td>\n",
       "      <td>-10.52</td>\n",
       "      <td>-11.74</td>\n",
       "      <td>-10.55</td>\n",
       "      <td>-9.45</td>\n",
       "      <td>-7.41</td>\n",
       "      <td>-10.02</td>\n",
       "      <td>-11.98</td>\n",
       "      <td>-11.89</td>\n",
       "      <td>-11.52</td>\n",
       "      <td>-11.58</td>\n",
       "      <td>-9.23</td>\n",
       "      <td>-10.74</td>\n",
       "      <td>-8.04</td>\n",
       "      <td>-8.28</td>\n",
       "      <td>-6.57</td>\n",
       "    </tr>\n",
       "    <tr>\n",
       "      <th>201811</th>\n",
       "      <td>NaN</td>\n",
       "      <td>-2.08</td>\n",
       "      <td>2.18</td>\n",
       "      <td>2.19</td>\n",
       "      <td>-2.78</td>\n",
       "      <td>1.69</td>\n",
       "      <td>1.46</td>\n",
       "      <td>2.62</td>\n",
       "      <td>2.49</td>\n",
       "      <td>-3.65</td>\n",
       "      <td>-0.23</td>\n",
       "      <td>1.23</td>\n",
       "      <td>2.30</td>\n",
       "      <td>1.74</td>\n",
       "      <td>1.11</td>\n",
       "      <td>3.54</td>\n",
       "      <td>1.63</td>\n",
       "      <td>2.45</td>\n",
       "      <td>2.53</td>\n",
       "    </tr>\n",
       "    <tr>\n",
       "      <th>201812</th>\n",
       "      <td>NaN</td>\n",
       "      <td>-14.28</td>\n",
       "      <td>-12.41</td>\n",
       "      <td>-9.76</td>\n",
       "      <td>-14.77</td>\n",
       "      <td>-12.44</td>\n",
       "      <td>-12.22</td>\n",
       "      <td>-11.34</td>\n",
       "      <td>-9.21</td>\n",
       "      <td>-15.31</td>\n",
       "      <td>-13.19</td>\n",
       "      <td>-11.94</td>\n",
       "      <td>-13.13</td>\n",
       "      <td>-12.73</td>\n",
       "      <td>-11.57</td>\n",
       "      <td>-11.87</td>\n",
       "      <td>-10.75</td>\n",
       "      <td>-9.54</td>\n",
       "      <td>-8.90</td>\n",
       "    </tr>\n",
       "  </tbody>\n",
       "</table>\n",
       "<p>1110 rows × 19 columns</p>\n",
       "</div>"
      ],
      "text/plain": [
       "        <= 0  Lo 30  Med 40  Hi 30  Lo 20  Qnt 2  Qnt 3  Qnt 4  Hi 20  Lo 10  \\\n",
       "192607   NaN  -0.43    1.52   2.68  -0.57   0.59   1.60   1.47   3.33  -1.45   \n",
       "192608   NaN   3.90    3.04   2.09   3.84   3.59   3.71   1.61   2.33   5.12   \n",
       "192609   NaN  -1.08   -0.54   0.16  -0.48  -1.40   0.00  -0.50  -0.09   0.93   \n",
       "192610   NaN  -3.32   -3.52  -3.06  -3.29  -4.10  -2.89  -3.36  -2.95  -4.84   \n",
       "192611   NaN  -0.46    3.82   3.09  -0.55   2.18   3.41   3.39   3.16  -0.78   \n",
       "...      ...    ...     ...    ...    ...    ...    ...    ...    ...    ...   \n",
       "201808   NaN   3.47    4.04   2.87   3.09   5.05   3.90   3.54   2.49   2.41   \n",
       "201809   NaN  -2.24   -1.85   0.08  -2.04  -2.38  -2.48  -0.74   0.19  -1.68   \n",
       "201810   NaN -10.76  -10.88  -7.63 -10.52 -11.74 -10.55  -9.45  -7.41 -10.02   \n",
       "201811   NaN  -2.08    2.18   2.19  -2.78   1.69   1.46   2.62   2.49  -3.65   \n",
       "201812   NaN -14.28  -12.41  -9.76 -14.77 -12.44 -12.22 -11.34  -9.21 -15.31   \n",
       "\n",
       "        Dec 2  Dec 3  Dec 4  Dec 5  Dec 6  Dec 7  Dec 8  Dec 9  Hi 10  \n",
       "192607   0.29  -0.15   1.33   1.24   1.98   1.55   1.38   3.38   3.29  \n",
       "192608   2.59   4.03   3.15   2.72   4.72   1.60   1.63   0.98   3.70  \n",
       "192609  -1.87  -2.27  -0.53   0.07  -0.07  -1.64   0.64  -0.86   0.67  \n",
       "192610  -1.77  -3.36  -4.83  -2.98  -2.80  -3.45  -3.27  -3.47  -2.43  \n",
       "192611  -0.32  -0.29   4.65   3.24   3.57   3.82   2.95   3.61   2.70  \n",
       "...       ...    ...    ...    ...    ...    ...    ...    ...    ...  \n",
       "201808   5.07   5.30   4.70   3.02   5.01   3.50   3.58   2.65   2.34  \n",
       "201809  -3.08  -3.22  -1.23  -2.65  -2.27  -1.31  -0.12  -0.51   0.87  \n",
       "201810 -11.98 -11.89 -11.52 -11.58  -9.23 -10.74  -8.04  -8.28  -6.57  \n",
       "201811  -0.23   1.23   2.30   1.74   1.11   3.54   1.63   2.45   2.53  \n",
       "201812 -13.19 -11.94 -13.13 -12.73 -11.57 -11.87 -10.75  -9.54  -8.90  \n",
       "\n",
       "[1110 rows x 19 columns]"
      ]
     },
     "execution_count": 88,
     "metadata": {},
     "output_type": "execute_result"
    }
   ],
   "source": [
    "portfolios_all = pd.read_csv(\n",
    "    \"class-notes/notebooks_and_codem01_v02/nb/data/Portfolios_Formed_on_ME_monthly_EW.csv\", \n",
    "    index_col=0, \n",
    "    na_values=-99.99, \n",
    "    header=0, \n",
    "    parse_dates=True\n",
    ")\n",
    "portfolios_all"
   ]
  },
  {
   "cell_type": "code",
   "execution_count": 93,
   "id": "4bc77ffb-d47f-44b8-96a2-ff67b1c15d2d",
   "metadata": {},
   "outputs": [
    {
     "data": {
      "text/html": [
       "<div>\n",
       "<style scoped>\n",
       "    .dataframe tbody tr th:only-of-type {\n",
       "        vertical-align: middle;\n",
       "    }\n",
       "\n",
       "    .dataframe tbody tr th {\n",
       "        vertical-align: top;\n",
       "    }\n",
       "\n",
       "    .dataframe thead th {\n",
       "        text-align: right;\n",
       "    }\n",
       "</style>\n",
       "<table border=\"1\" class=\"dataframe\">\n",
       "  <thead>\n",
       "    <tr style=\"text-align: right;\">\n",
       "      <th></th>\n",
       "      <th>Lo 10</th>\n",
       "      <th>Hi 10</th>\n",
       "    </tr>\n",
       "  </thead>\n",
       "  <tbody>\n",
       "    <tr>\n",
       "      <th>192607</th>\n",
       "      <td>-0.0145</td>\n",
       "      <td>0.0329</td>\n",
       "    </tr>\n",
       "    <tr>\n",
       "      <th>192608</th>\n",
       "      <td>0.0512</td>\n",
       "      <td>0.0370</td>\n",
       "    </tr>\n",
       "    <tr>\n",
       "      <th>192609</th>\n",
       "      <td>0.0093</td>\n",
       "      <td>0.0067</td>\n",
       "    </tr>\n",
       "    <tr>\n",
       "      <th>192610</th>\n",
       "      <td>-0.0484</td>\n",
       "      <td>-0.0243</td>\n",
       "    </tr>\n",
       "    <tr>\n",
       "      <th>192611</th>\n",
       "      <td>-0.0078</td>\n",
       "      <td>0.0270</td>\n",
       "    </tr>\n",
       "  </tbody>\n",
       "</table>\n",
       "</div>"
      ],
      "text/plain": [
       "         Lo 10   Hi 10\n",
       "192607 -0.0145  0.0329\n",
       "192608  0.0512  0.0370\n",
       "192609  0.0093  0.0067\n",
       "192610 -0.0484 -0.0243\n",
       "192611 -0.0078  0.0270"
      ]
     },
     "execution_count": 93,
     "metadata": {},
     "output_type": "execute_result"
    }
   ],
   "source": [
    "columns = {\"old\": [\"Lo 10\", \"Hi 10\"], \"new\":[\"SmallCap\", \"LargeCap\"]}\n",
    "portfolios = portfolios_all[columns[\"old\"]]/100\n",
    "portfolios.head(5)"
   ]
  },
  {
   "cell_type": "code",
   "execution_count": 94,
   "id": "3085ea39-a831-47d6-902e-a04129795986",
   "metadata": {},
   "outputs": [],
   "source": [
    "portfolios.columns = columns[\"new\"]"
   ]
  },
  {
   "cell_type": "code",
   "execution_count": 95,
   "id": "4d7af15b-5bc9-40aa-93a8-88ebfd66856f",
   "metadata": {},
   "outputs": [
    {
     "data": {
      "text/plain": [
       "<AxesSubplot:>"
      ]
     },
     "execution_count": 95,
     "metadata": {},
     "output_type": "execute_result"
    },
    {
     "data": {
      "image/png": "[encoded data removed]",
      "text/plain": [
       "<Figure size 640x480 with 1 Axes>"
      ]
     },
     "metadata": {},
     "output_type": "display_data"
    }
   ],
   "source": [
    "portfolios.plot.line()"
   ]
  },
  {
   "cell_type": "code",
   "execution_count": 125,
   "id": "ea4173a9-3e72-40e4-ab30-fa43761f43dd",
   "metadata": {},
   "outputs": [
    {
     "data": {
      "text/plain": [
       "Int64Index([192607, 192608, 192609, 192610, 192611, 192612, 192701, 192702,\n",
       "            192703, 192704,\n",
       "            ...\n",
       "            201803, 201804, 201805, 201806, 201807, 201808, 201809, 201810,\n",
       "            201811, 201812],\n",
       "           dtype='int64', length=1110)"
      ]
     },
     "execution_count": 125,
     "metadata": {},
     "output_type": "execute_result"
    }
   ],
   "source": [
    "portfolios.index"
   ]
  },
  {
   "cell_type": "code",
   "execution_count": 126,
   "id": "512b8b4f-93d3-4770-9d98-c1276dfecd2b",
   "metadata": {},
   "outputs": [],
   "source": [
    "portfolios.index = pd.to_datetime(portfolios.index, format=\"%Y%m\").to_period()"
   ]
  },
  {
   "cell_type": "code",
   "execution_count": 127,
   "id": "c437fe24-8271-44ca-9166-b179cb289e18",
   "metadata": {},
   "outputs": [
    {
     "data": {
      "text/html": [
       "<div>\n",
       "<style scoped>\n",
       "    .dataframe tbody tr th:only-of-type {\n",
       "        vertical-align: middle;\n",
       "    }\n",
       "\n",
       "    .dataframe tbody tr th {\n",
       "        vertical-align: top;\n",
       "    }\n",
       "\n",
       "    .dataframe thead th {\n",
       "        text-align: right;\n",
       "    }\n",
       "</style>\n",
       "<table border=\"1\" class=\"dataframe\">\n",
       "  <thead>\n",
       "    <tr style=\"text-align: right;\">\n",
       "      <th></th>\n",
       "      <th>SmallCap</th>\n",
       "      <th>LargeCap</th>\n",
       "    </tr>\n",
       "  </thead>\n",
       "  <tbody>\n",
       "    <tr>\n",
       "      <th>1926-07</th>\n",
       "      <td>-0.0145</td>\n",
       "      <td>0.0329</td>\n",
       "    </tr>\n",
       "    <tr>\n",
       "      <th>1926-08</th>\n",
       "      <td>0.0512</td>\n",
       "      <td>0.0370</td>\n",
       "    </tr>\n",
       "    <tr>\n",
       "      <th>1926-09</th>\n",
       "      <td>0.0093</td>\n",
       "      <td>0.0067</td>\n",
       "    </tr>\n",
       "    <tr>\n",
       "      <th>1926-10</th>\n",
       "      <td>-0.0484</td>\n",
       "      <td>-0.0243</td>\n",
       "    </tr>\n",
       "    <tr>\n",
       "      <th>1926-11</th>\n",
       "      <td>-0.0078</td>\n",
       "      <td>0.0270</td>\n",
       "    </tr>\n",
       "    <tr>\n",
       "      <th>...</th>\n",
       "      <td>...</td>\n",
       "      <td>...</td>\n",
       "    </tr>\n",
       "    <tr>\n",
       "      <th>2018-08</th>\n",
       "      <td>0.0241</td>\n",
       "      <td>0.0234</td>\n",
       "    </tr>\n",
       "    <tr>\n",
       "      <th>2018-09</th>\n",
       "      <td>-0.0168</td>\n",
       "      <td>0.0087</td>\n",
       "    </tr>\n",
       "    <tr>\n",
       "      <th>2018-10</th>\n",
       "      <td>-0.1002</td>\n",
       "      <td>-0.0657</td>\n",
       "    </tr>\n",
       "    <tr>\n",
       "      <th>2018-11</th>\n",
       "      <td>-0.0365</td>\n",
       "      <td>0.0253</td>\n",
       "    </tr>\n",
       "    <tr>\n",
       "      <th>2018-12</th>\n",
       "      <td>-0.1531</td>\n",
       "      <td>-0.0890</td>\n",
       "    </tr>\n",
       "  </tbody>\n",
       "</table>\n",
       "<p>1110 rows × 2 columns</p>\n",
       "</div>"
      ],
      "text/plain": [
       "         SmallCap  LargeCap\n",
       "1926-07   -0.0145    0.0329\n",
       "1926-08    0.0512    0.0370\n",
       "1926-09    0.0093    0.0067\n",
       "1926-10   -0.0484   -0.0243\n",
       "1926-11   -0.0078    0.0270\n",
       "...           ...       ...\n",
       "2018-08    0.0241    0.0234\n",
       "2018-09   -0.0168    0.0087\n",
       "2018-10   -0.1002   -0.0657\n",
       "2018-11   -0.0365    0.0253\n",
       "2018-12   -0.1531   -0.0890\n",
       "\n",
       "[1110 rows x 2 columns]"
      ]
     },
     "execution_count": 127,
     "metadata": {},
     "output_type": "execute_result"
    }
   ],
   "source": [
    "portfolios"
   ]
  },
  {
   "cell_type": "code",
   "execution_count": 129,
   "id": "917aaa2a-ad47-42ed-9bd8-de296420663e",
   "metadata": {},
   "outputs": [
    {
     "data": {
      "text/plain": [
       "<AxesSubplot:>"
      ]
     },
     "execution_count": 129,
     "metadata": {},
     "output_type": "execute_result"
    },
    {
     "data": {
      "image/png": "[encoded data removed]",
      "text/plain": [
       "<Figure size 640x480 with 1 Axes>"
      ]
     },
     "metadata": {},
     "output_type": "display_data"
    }
   ],
   "source": [
    "portfolios.plot.line()"
   ]
  },
  {
   "cell_type": "code",
   "execution_count": 97,
   "id": "4b0f39ad-526f-43c3-9dda-56280614ce8c",
   "metadata": {},
   "outputs": [
    {
     "data": {
      "text/plain": [
       "<AxesSubplot:>"
      ]
     },
     "execution_count": 97,
     "metadata": {},
     "output_type": "execute_result"
    },
    {
     "data": {
      "image/png": "[encoded data removed]",
      "text/plain": [
       "<Figure size 640x480 with 1 Axes>"
      ]
     },
     "metadata": {},
     "output_type": "display_data"
    }
   ],
   "source": [
    "port_ann = (1 + portfolios)**12 - 1\n",
    "port_ann.plot.line()"
   ]
  },
  {
   "cell_type": "code",
   "execution_count": 99,
   "id": "ea8aa5f4-130f-45b6-82ed-743ae4563efc",
   "metadata": {},
   "outputs": [
    {
     "data": {
      "text/plain": [
       "<AxesSubplot:>"
      ]
     },
     "execution_count": 99,
     "metadata": {},
     "output_type": "execute_result"
    },
    {
     "data": {
      "image/png": "[encoded data removed]",
      "text/plain": [
       "<Figure size 640x480 with 1 Axes>"
      ]
     },
     "metadata": {},
     "output_type": "display_data"
    }
   ],
   "source": [
    "port_ann[\"LargeCap\"].plot.line()"
   ]
  },
  {
   "cell_type": "markdown",
   "id": "2338ff00-24d4-41da-876d-4d1bf39b68e7",
   "metadata": {},
   "source": [
    "# Volatility"
   ]
  },
  {
   "cell_type": "markdown",
   "id": "58a6395b-fb64-45e6-9544-54bcb95d3b6b",
   "metadata": {},
   "source": [
    "$$ \\sigma = \\sqrt{\\frac{\\sum_1^T( r_t - E(r))}{T-1}} $$"
   ]
  },
  {
   "cell_type": "code",
   "execution_count": 109,
   "id": "37e72a65-d342-474c-9574-091bc99a14d8",
   "metadata": {},
   "outputs": [
    {
     "data": {
      "text/plain": [
       "SmallCap    0.106288\n",
       "LargeCap    0.053900\n",
       "dtype: float64"
      ]
     },
     "execution_count": 109,
     "metadata": {},
     "output_type": "execute_result"
    }
   ],
   "source": [
    "(((portfolios - portfolios.mean())**2).sum() / (portfolios.shape[0] - 1))**(1/2)"
   ]
  },
  {
   "cell_type": "code",
   "execution_count": 100,
   "id": "5e510489-20d4-4705-89f9-dfa359948bca",
   "metadata": {},
   "outputs": [
    {
     "data": {
      "text/plain": [
       "SmallCap    0.106288\n",
       "LargeCap    0.053900\n",
       "dtype: float64"
      ]
     },
     "execution_count": 100,
     "metadata": {},
     "output_type": "execute_result"
    }
   ],
   "source": [
    "vol = portfolios.std()\n",
    "vol"
   ]
  },
  {
   "cell_type": "markdown",
   "id": "ee4a33de-a9d4-497b-bd33-7677f2a811ae",
   "metadata": {},
   "source": [
    "# Annualized volatility"
   ]
  },
  {
   "cell_type": "markdown",
   "id": "6e308f3b-dab7-4979-ab3d-cd83aecacf7a",
   "metadata": {},
   "source": [
    "$$ \\sigma_{an} = \\sigma * \\sqrt{h} $$"
   ]
  },
  {
   "cell_type": "markdown",
   "id": "b1e8dc54-f864-452d-8c72-23b8825afa21",
   "metadata": {},
   "source": [
    "If daily data is used the interval is one trading day and we use h = 252, if the interval is a week, h = 52 and h = 12 for monthly data. "
   ]
  },
  {
   "cell_type": "code",
   "execution_count": 111,
   "id": "8bfb06eb-3814-4316-b4d0-247f955d297c",
   "metadata": {},
   "outputs": [
    {
     "data": {
      "text/plain": [
       "SmallCap    0.368193\n",
       "LargeCap    0.186716\n",
       "dtype: float64"
      ]
     },
     "execution_count": 111,
     "metadata": {},
     "output_type": "execute_result"
    }
   ],
   "source": [
    "ann_vol = portfolios.std() * (12**0.5)\n",
    "ann_vol"
   ]
  },
  {
   "cell_type": "code",
   "execution_count": 112,
   "id": "00b619e6-0d22-4967-b9a2-f398e8dbd878",
   "metadata": {},
   "outputs": [
    {
     "data": {
      "text/plain": [
       "SmallCap    1.659582e+06\n",
       "LargeCap    3.674948e+03\n",
       "dtype: float64"
      ]
     },
     "execution_count": 112,
     "metadata": {},
     "output_type": "execute_result"
    }
   ],
   "source": [
    "comp_returns = (1 + portfolios).prod() - 1\n",
    "comp_returns"
   ]
  },
  {
   "cell_type": "code",
   "execution_count": 113,
   "id": "405f6918-d794-4e47-bfd2-836b93f83256",
   "metadata": {},
   "outputs": [
    {
     "data": {
      "text/plain": [
       "SmallCap    0.012986\n",
       "LargeCap    0.007423\n",
       "dtype: float64"
      ]
     },
     "execution_count": 113,
     "metadata": {},
     "output_type": "execute_result"
    }
   ],
   "source": [
    "mens_comp_returns = (1 + comp_returns)**(1/portfolios.shape[0]) - 1\n",
    "mens_comp_returns"
   ]
  },
  {
   "cell_type": "code",
   "execution_count": 114,
   "id": "a17676e6-fabe-4079-a17c-ad93bcd9b7d2",
   "metadata": {},
   "outputs": [
    {
     "data": {
      "text/plain": [
       "SmallCap    1.659582e+06\n",
       "LargeCap    3.674948e+03\n",
       "dtype: float64"
      ]
     },
     "execution_count": 114,
     "metadata": {},
     "output_type": "execute_result"
    }
   ],
   "source": [
    "(1 + mens_comp_returns)**portfolios.shape[0] - 1"
   ]
  },
  {
   "cell_type": "code",
   "execution_count": 115,
   "id": "9887bb02-9d4c-44b8-8415-bd108408053b",
   "metadata": {},
   "outputs": [
    {
     "data": {
      "text/plain": [
       "SmallCap    0.167463\n",
       "LargeCap    0.092810\n",
       "dtype: float64"
      ]
     },
     "execution_count": 115,
     "metadata": {},
     "output_type": "execute_result"
    }
   ],
   "source": [
    "ann_comp_returns = (1 + mens_comp_returns)**12 - 1\n",
    "ann_comp_returns"
   ]
  },
  {
   "cell_type": "markdown",
   "id": "f646cdb1-5d05-47b2-8f63-0f24757e45c0",
   "metadata": {},
   "source": [
    "$$ R_{a} =  [{\\prod_{t = 1}^T{(1 + r_t)}}]^{12/T} - 1 $$"
   ]
  },
  {
   "cell_type": "code",
   "execution_count": 117,
   "id": "a18c75d1-ab43-46bb-85cf-5185be307111",
   "metadata": {},
   "outputs": [
    {
     "data": {
      "text/plain": [
       "SmallCap    0.167463\n",
       "LargeCap    0.092810\n",
       "dtype: float64"
      ]
     },
     "execution_count": 117,
     "metadata": {},
     "output_type": "execute_result"
    }
   ],
   "source": [
    "(1 + portfolios).prod()**(12/portfolios.shape[0]) - 1"
   ]
  },
  {
   "cell_type": "code",
   "execution_count": 118,
   "id": "f9329bd4-a8f2-4051-be8c-b5be845a2231",
   "metadata": {},
   "outputs": [
    {
     "data": {
      "text/plain": [
       "SmallCap    0.454825\n",
       "LargeCap    0.497063\n",
       "dtype: float64"
      ]
     },
     "execution_count": 118,
     "metadata": {},
     "output_type": "execute_result"
    }
   ],
   "source": [
    "ann_comp_returns/ann_vol"
   ]
  },
  {
   "cell_type": "code",
   "execution_count": 119,
   "id": "0cd3ce68-a650-4ded-86e1-b59b14262cd7",
   "metadata": {},
   "outputs": [
    {
     "data": {
      "text/plain": [
       "SmallCap    0.373346\n",
       "LargeCap    0.336392\n",
       "dtype: float64"
      ]
     },
     "execution_count": 119,
     "metadata": {},
     "output_type": "execute_result"
    }
   ],
   "source": [
    "risk_free_rate = 0.03\n",
    "(ann_comp_returns - risk_free_rate)/ann_vol"
   ]
  },
  {
   "cell_type": "code",
   "execution_count": 120,
   "id": "78683dec-ea35-4e13-9514-ccf827883762",
   "metadata": {},
   "outputs": [
    {
     "data": {
      "text/plain": [
       "<= 0           NaN\n",
       "Lo 30     0.361450\n",
       "Med 40    0.346449\n",
       "Hi 30     0.358843\n",
       "Lo 20     0.362271\n",
       "Qnt 2     0.326730\n",
       "Qnt 3     0.350643\n",
       "Qnt 4     0.358883\n",
       "Hi 20     0.351023\n",
       "Lo 10     0.373346\n",
       "Dec 2     0.292848\n",
       "Dec 3     0.320680\n",
       "Dec 4     0.327587\n",
       "Dec 5     0.331010\n",
       "Dec 6     0.366129\n",
       "Dec 7     0.348094\n",
       "Dec 8     0.363190\n",
       "Dec 9     0.355621\n",
       "Hi 10     0.336392\n",
       "dtype: float64"
      ]
     },
     "execution_count": 120,
     "metadata": {},
     "output_type": "execute_result"
    }
   ],
   "source": [
    "(((1 + portfolios_all/100).prod())**(12/portfolios_all.shape[0]) - 1 - risk_free_rate) / ((portfolios_all/100).std() * 12**0.5)"
   ]
  },
  {
   "cell_type": "code",
   "execution_count": 121,
   "id": "0f8356a3-6969-43f9-bb19-00c64282b630",
   "metadata": {},
   "outputs": [
    {
     "data": {
      "text/html": [
       "<div>\n",
       "<style scoped>\n",
       "    .dataframe tbody tr th:only-of-type {\n",
       "        vertical-align: middle;\n",
       "    }\n",
       "\n",
       "    .dataframe tbody tr th {\n",
       "        vertical-align: top;\n",
       "    }\n",
       "\n",
       "    .dataframe thead th {\n",
       "        text-align: right;\n",
       "    }\n",
       "</style>\n",
       "<table border=\"1\" class=\"dataframe\">\n",
       "  <thead>\n",
       "    <tr style=\"text-align: right;\">\n",
       "      <th></th>\n",
       "      <th>SmallCap</th>\n",
       "      <th>LargeCap</th>\n",
       "    </tr>\n",
       "  </thead>\n",
       "  <tbody>\n",
       "    <tr>\n",
       "      <th>192607</th>\n",
       "      <td>-0.0145</td>\n",
       "      <td>0.0329</td>\n",
       "    </tr>\n",
       "    <tr>\n",
       "      <th>192608</th>\n",
       "      <td>0.0512</td>\n",
       "      <td>0.0370</td>\n",
       "    </tr>\n",
       "    <tr>\n",
       "      <th>192609</th>\n",
       "      <td>0.0093</td>\n",
       "      <td>0.0067</td>\n",
       "    </tr>\n",
       "    <tr>\n",
       "      <th>192610</th>\n",
       "      <td>-0.0484</td>\n",
       "      <td>-0.0243</td>\n",
       "    </tr>\n",
       "    <tr>\n",
       "      <th>192611</th>\n",
       "      <td>-0.0078</td>\n",
       "      <td>0.0270</td>\n",
       "    </tr>\n",
       "    <tr>\n",
       "      <th>...</th>\n",
       "      <td>...</td>\n",
       "      <td>...</td>\n",
       "    </tr>\n",
       "    <tr>\n",
       "      <th>201808</th>\n",
       "      <td>0.0241</td>\n",
       "      <td>0.0234</td>\n",
       "    </tr>\n",
       "    <tr>\n",
       "      <th>201809</th>\n",
       "      <td>-0.0168</td>\n",
       "      <td>0.0087</td>\n",
       "    </tr>\n",
       "    <tr>\n",
       "      <th>201810</th>\n",
       "      <td>-0.1002</td>\n",
       "      <td>-0.0657</td>\n",
       "    </tr>\n",
       "    <tr>\n",
       "      <th>201811</th>\n",
       "      <td>-0.0365</td>\n",
       "      <td>0.0253</td>\n",
       "    </tr>\n",
       "    <tr>\n",
       "      <th>201812</th>\n",
       "      <td>-0.1531</td>\n",
       "      <td>-0.0890</td>\n",
       "    </tr>\n",
       "  </tbody>\n",
       "</table>\n",
       "<p>1110 rows × 2 columns</p>\n",
       "</div>"
      ],
      "text/plain": [
       "        SmallCap  LargeCap\n",
       "192607   -0.0145    0.0329\n",
       "192608    0.0512    0.0370\n",
       "192609    0.0093    0.0067\n",
       "192610   -0.0484   -0.0243\n",
       "192611   -0.0078    0.0270\n",
       "...          ...       ...\n",
       "201808    0.0241    0.0234\n",
       "201809   -0.0168    0.0087\n",
       "201810   -0.1002   -0.0657\n",
       "201811   -0.0365    0.0253\n",
       "201812   -0.1531   -0.0890\n",
       "\n",
       "[1110 rows x 2 columns]"
      ]
     },
     "execution_count": 121,
     "metadata": {},
     "output_type": "execute_result"
    }
   ],
   "source": [
    "portfolios"
   ]
  },
  {
   "cell_type": "code",
   "execution_count": 122,
   "id": "07d42755-9176-4deb-8f5e-89cb77b641ff",
   "metadata": {},
   "outputs": [
    {
     "data": {
      "text/plain": [
       "192607    9.855000e-01\n",
       "192608    1.035958e+00\n",
       "192609    1.045592e+00\n",
       "192610    9.949854e-01\n",
       "192611    9.872245e-01\n",
       "              ...     \n",
       "201808    2.298938e+06\n",
       "201809    2.260316e+06\n",
       "201810    2.033832e+06\n",
       "201811    1.959597e+06\n",
       "201812    1.659583e+06\n",
       "Name: SmallCap, Length: 1110, dtype: float64"
      ]
     },
     "execution_count": 122,
     "metadata": {},
     "output_type": "execute_result"
    }
   ],
   "source": [
    "cumprod = np.cumprod(1 + portfolios[\"SmallCap\"])\n",
    "cumprod"
   ]
  },
  {
   "cell_type": "code",
   "execution_count": 123,
   "id": "4eea45cf-b474-4cea-97b9-55dfa39e1800",
   "metadata": {},
   "outputs": [
    {
     "data": {
      "text/plain": [
       "<AxesSubplot:>"
      ]
     },
     "execution_count": 123,
     "metadata": {},
     "output_type": "execute_result"
    },
    {
     "data": {
      "image/png": "[encoded data removed]",
      "text/plain": [
       "<Figure size 640x480 with 1 Axes>"
      ]
     },
     "metadata": {},
     "output_type": "display_data"
    }
   ],
   "source": [
    "cumprod.plot.line()"
   ]
  },
  {
   "cell_type": "markdown",
   "id": "6f5a562c-a004-4306-aa12-cf0f3e5b1598",
   "metadata": {},
   "source": [
    "# Wealth index"
   ]
  },
  {
   "cell_type": "code",
   "execution_count": 131,
   "id": "b201d733-3898-427f-a70c-96f4ef68cbea",
   "metadata": {},
   "outputs": [
    {
     "data": {
      "text/html": [
       "<div>\n",
       "<style scoped>\n",
       "    .dataframe tbody tr th:only-of-type {\n",
       "        vertical-align: middle;\n",
       "    }\n",
       "\n",
       "    .dataframe tbody tr th {\n",
       "        vertical-align: top;\n",
       "    }\n",
       "\n",
       "    .dataframe thead th {\n",
       "        text-align: right;\n",
       "    }\n",
       "</style>\n",
       "<table border=\"1\" class=\"dataframe\">\n",
       "  <thead>\n",
       "    <tr style=\"text-align: right;\">\n",
       "      <th></th>\n",
       "      <th>SmallCap</th>\n",
       "      <th>LargeCap</th>\n",
       "    </tr>\n",
       "  </thead>\n",
       "  <tbody>\n",
       "    <tr>\n",
       "      <th>1926-07</th>\n",
       "      <td>9.855000e+02</td>\n",
       "      <td>1.032900e+03</td>\n",
       "    </tr>\n",
       "    <tr>\n",
       "      <th>1926-08</th>\n",
       "      <td>1.035958e+03</td>\n",
       "      <td>1.071117e+03</td>\n",
       "    </tr>\n",
       "    <tr>\n",
       "      <th>1926-09</th>\n",
       "      <td>1.045592e+03</td>\n",
       "      <td>1.078294e+03</td>\n",
       "    </tr>\n",
       "    <tr>\n",
       "      <th>1926-10</th>\n",
       "      <td>9.949854e+02</td>\n",
       "      <td>1.052091e+03</td>\n",
       "    </tr>\n",
       "    <tr>\n",
       "      <th>1926-11</th>\n",
       "      <td>9.872245e+02</td>\n",
       "      <td>1.080498e+03</td>\n",
       "    </tr>\n",
       "    <tr>\n",
       "      <th>...</th>\n",
       "      <td>...</td>\n",
       "      <td>...</td>\n",
       "    </tr>\n",
       "    <tr>\n",
       "      <th>2018-08</th>\n",
       "      <td>2.298938e+09</td>\n",
       "      <td>4.175915e+06</td>\n",
       "    </tr>\n",
       "    <tr>\n",
       "      <th>2018-09</th>\n",
       "      <td>2.260316e+09</td>\n",
       "      <td>4.212246e+06</td>\n",
       "    </tr>\n",
       "    <tr>\n",
       "      <th>2018-10</th>\n",
       "      <td>2.033832e+09</td>\n",
       "      <td>3.935501e+06</td>\n",
       "    </tr>\n",
       "    <tr>\n",
       "      <th>2018-11</th>\n",
       "      <td>1.959597e+09</td>\n",
       "      <td>4.035069e+06</td>\n",
       "    </tr>\n",
       "    <tr>\n",
       "      <th>2018-12</th>\n",
       "      <td>1.659583e+09</td>\n",
       "      <td>3.675948e+06</td>\n",
       "    </tr>\n",
       "  </tbody>\n",
       "</table>\n",
       "<p>1110 rows × 2 columns</p>\n",
       "</div>"
      ],
      "text/plain": [
       "             SmallCap      LargeCap\n",
       "1926-07  9.855000e+02  1.032900e+03\n",
       "1926-08  1.035958e+03  1.071117e+03\n",
       "1926-09  1.045592e+03  1.078294e+03\n",
       "1926-10  9.949854e+02  1.052091e+03\n",
       "1926-11  9.872245e+02  1.080498e+03\n",
       "...               ...           ...\n",
       "2018-08  2.298938e+09  4.175915e+06\n",
       "2018-09  2.260316e+09  4.212246e+06\n",
       "2018-10  2.033832e+09  3.935501e+06\n",
       "2018-11  1.959597e+09  4.035069e+06\n",
       "2018-12  1.659583e+09  3.675948e+06\n",
       "\n",
       "[1110 rows x 2 columns]"
      ]
     },
     "execution_count": 131,
     "metadata": {},
     "output_type": "execute_result"
    }
   ],
   "source": [
    "wealth_index = 1000*(portfolios + 1).cumprod()\n",
    "wealth_index"
   ]
  },
  {
   "cell_type": "code",
   "execution_count": 133,
   "id": "28ff0aae-2fac-4ed6-8025-7ed4e093cc1c",
   "metadata": {},
   "outputs": [
    {
     "data": {
      "text/plain": [
       "<AxesSubplot:>"
      ]
     },
     "execution_count": 133,
     "metadata": {},
     "output_type": "execute_result"
    },
    {
     "data": {
      "image/png": "[encoded data removed]",
      "text/plain": [
       "<Figure size 640x480 with 1 Axes>"
      ]
     },
     "metadata": {},
     "output_type": "display_data"
    }
   ],
   "source": [
    "wealth_index[\"LargeCap\"].plot.line()"
   ]
  },
  {
   "cell_type": "code",
   "execution_count": 134,
   "id": "8a727c7c-dd7d-48d4-9c8c-28faf2c5fc05",
   "metadata": {},
   "outputs": [
    {
     "data": {
      "text/plain": [
       "<AxesSubplot:>"
      ]
     },
     "execution_count": 134,
     "metadata": {},
     "output_type": "execute_result"
    },
    {
     "data": {
      "image/png": "[encoded data removed]",
      "text/plain": [
       "<Figure size 640x480 with 1 Axes>"
      ]
     },
     "metadata": {},
     "output_type": "display_data"
    }
   ],
   "source": [
    "wealth_index_cummax = wealth_index.cummax()\n",
    "wealth_index_cummax.plot()"
   ]
  },
  {
   "cell_type": "markdown",
   "id": "46935ec0-6d51-49a3-84a1-68c9868172fa",
   "metadata": {},
   "source": [
    "# Drawdowns"
   ]
  },
  {
   "cell_type": "code",
   "execution_count": 135,
   "id": "077e04c8-eafd-4ecb-b370-1ec3b176a378",
   "metadata": {},
   "outputs": [],
   "source": [
    "drawdown = (wealth_index - wealth_index_cummax)/wealth_index_cummax"
   ]
  },
  {
   "cell_type": "code",
   "execution_count": 136,
   "id": "e955d545-0f1e-4ff3-8f40-15175a26d288",
   "metadata": {},
   "outputs": [
    {
     "data": {
      "text/plain": [
       "<AxesSubplot:>"
      ]
     },
     "execution_count": 136,
     "metadata": {},
     "output_type": "execute_result"
    },
    {
     "data": {
      "image/png": "[encoded data removed]",
      "text/plain": [
       "<Figure size 640x480 with 1 Axes>"
      ]
     },
     "metadata": {},
     "output_type": "display_data"
    }
   ],
   "source": [
    "drawdown.plot()"
   ]
  },
  {
   "cell_type": "code",
   "execution_count": 139,
   "id": "6fefe4e4-996d-478f-9f61-74a2fa05253f",
   "metadata": {},
   "outputs": [
    {
     "data": {
      "text/plain": [
       "<AxesSubplot:>"
      ]
     },
     "execution_count": 139,
     "metadata": {},
     "output_type": "execute_result"
    },
    {
     "data": {
      "image/png": "[encoded data removed]",
      "text/plain": [
       "<Figure size 640x480 with 1 Axes>"
      ]
     },
     "metadata": {},
     "output_type": "display_data"
    }
   ],
   "source": [
    "    def vol_an(serie: pd.Series):\n",
    "        # 1 calculate wealth index\n",
    "        wealth_index = 1000 * (serie + 1).cumprod()\n",
    "        # 2 calculate previous max\n",
    "        wealth_index_cummax = wealth_index.cummax()\n",
    "        # 3 calculate drawdowns\n",
    "        drawdowns = (wealth_index - wealth_index_cummax) / wealth_index_cummax\n",
    "        \n",
    "        return pd.DataFrame(\n",
    "            {\n",
    "                \"wealth_index\":        wealth_index,\n",
    "                \"wealth_index_cummax\": wealth_index_cummax,\n",
    "                \"drawdowns\" :          drawdowns\n",
    "            }\n",
    "        )\n",
    "    \n",
    "    vol_an(portfolios[\"LargeCap\"])[\"drawdowns\"].plot()"
   ]
  },
  {
   "cell_type": "code",
   "execution_count": 142,
   "id": "824b8674-2066-4639-8b02-7e0cd3300eb1",
   "metadata": {},
   "outputs": [
    {
     "data": {
      "text/plain": [
       "<AxesSubplot:>"
      ]
     },
     "execution_count": 142,
     "metadata": {},
     "output_type": "execute_result"
    },
    {
     "data": {
      "image/png": "[encoded data removed]",
      "text/plain": [
       "<Figure size 640x480 with 1 Axes>"
      ]
     },
     "metadata": {},
     "output_type": "display_data"
    }
   ],
   "source": [
    "vol_an(portfolios[\"LargeCap\"])[[\"wealth_index\", \"wealth_index_cummax\"]].plot()"
   ]
  },
  {
   "cell_type": "markdown",
   "id": "4434b5c7-2394-4833-a4bb-5b8108022d38",
   "metadata": {},
   "source": [
    "# VaR - Value at Risk"
   ]
  },
  {
   "cell_type": "code",
   "execution_count": 196,
   "id": "0ebfed2f-639b-45db-9cb3-a9fea0c4a9c5",
   "metadata": {},
   "outputs": [],
   "source": [
    "import wealth_index as wi"
   ]
  },
  {
   "cell_type": "code",
   "execution_count": 146,
   "id": "5a987b97-12d0-4f36-9780-0b858b5dffd8",
   "metadata": {},
   "outputs": [],
   "source": [
    "highCap_serie = wi.return_serie(portfolios[\"LargeCap\"])"
   ]
  },
  {
   "cell_type": "code",
   "execution_count": 147,
   "id": "b2d25a06-ccfa-41e2-a5f6-29950663a074",
   "metadata": {},
   "outputs": [
    {
     "data": {
      "text/html": [
       "<div>\n",
       "<style scoped>\n",
       "    .dataframe tbody tr th:only-of-type {\n",
       "        vertical-align: middle;\n",
       "    }\n",
       "\n",
       "    .dataframe tbody tr th {\n",
       "        vertical-align: top;\n",
       "    }\n",
       "\n",
       "    .dataframe thead th {\n",
       "        text-align: right;\n",
       "    }\n",
       "</style>\n",
       "<table border=\"1\" class=\"dataframe\">\n",
       "  <thead>\n",
       "    <tr style=\"text-align: right;\">\n",
       "      <th></th>\n",
       "      <th>LargeCap</th>\n",
       "    </tr>\n",
       "  </thead>\n",
       "  <tbody>\n",
       "    <tr>\n",
       "      <th>1926-07</th>\n",
       "      <td>1.032900e+03</td>\n",
       "    </tr>\n",
       "    <tr>\n",
       "      <th>1926-08</th>\n",
       "      <td>1.071117e+03</td>\n",
       "    </tr>\n",
       "    <tr>\n",
       "      <th>1926-09</th>\n",
       "      <td>1.078294e+03</td>\n",
       "    </tr>\n",
       "    <tr>\n",
       "      <th>1926-10</th>\n",
       "      <td>1.052091e+03</td>\n",
       "    </tr>\n",
       "    <tr>\n",
       "      <th>1926-11</th>\n",
       "      <td>1.080498e+03</td>\n",
       "    </tr>\n",
       "    <tr>\n",
       "      <th>...</th>\n",
       "      <td>...</td>\n",
       "    </tr>\n",
       "    <tr>\n",
       "      <th>2018-08</th>\n",
       "      <td>4.175915e+06</td>\n",
       "    </tr>\n",
       "    <tr>\n",
       "      <th>2018-09</th>\n",
       "      <td>4.212246e+06</td>\n",
       "    </tr>\n",
       "    <tr>\n",
       "      <th>2018-10</th>\n",
       "      <td>3.935501e+06</td>\n",
       "    </tr>\n",
       "    <tr>\n",
       "      <th>2018-11</th>\n",
       "      <td>4.035069e+06</td>\n",
       "    </tr>\n",
       "    <tr>\n",
       "      <th>2018-12</th>\n",
       "      <td>3.675948e+06</td>\n",
       "    </tr>\n",
       "  </tbody>\n",
       "</table>\n",
       "<p>1110 rows × 1 columns</p>\n",
       "</div>"
      ],
      "text/plain": [
       "             LargeCap\n",
       "1926-07  1.032900e+03\n",
       "1926-08  1.071117e+03\n",
       "1926-09  1.078294e+03\n",
       "1926-10  1.052091e+03\n",
       "1926-11  1.080498e+03\n",
       "...               ...\n",
       "2018-08  4.175915e+06\n",
       "2018-09  4.212246e+06\n",
       "2018-10  3.935501e+06\n",
       "2018-11  4.035069e+06\n",
       "2018-12  3.675948e+06\n",
       "\n",
       "[1110 rows x 1 columns]"
      ]
     },
     "execution_count": 147,
     "metadata": {},
     "output_type": "execute_result"
    }
   ],
   "source": [
    "highCap_serie.wealth_index()"
   ]
  },
  {
   "cell_type": "code",
   "execution_count": 148,
   "id": "6e17d7ac-e84d-489e-bbac-f08f071fa056",
   "metadata": {},
   "outputs": [
    {
     "data": {
      "text/plain": [
       "<AxesSubplot:>"
      ]
     },
     "execution_count": 148,
     "metadata": {},
     "output_type": "execute_result"
    },
    {
     "data": {
      "image/png": "[encoded data removed]",
      "text/plain": [
       "<Figure size 640x480 with 1 Axes>"
      ]
     },
     "metadata": {},
     "output_type": "display_data"
    }
   ],
   "source": [
    "highCap_serie.wealth_index_cummax().plot()"
   ]
  },
  {
   "cell_type": "code",
   "execution_count": 155,
   "id": "c3a4c7b6-28d3-487a-a83f-ebd555465860",
   "metadata": {},
   "outputs": [
    {
     "data": {
      "text/html": [
       "<div>\n",
       "<style scoped>\n",
       "    .dataframe tbody tr th:only-of-type {\n",
       "        vertical-align: middle;\n",
       "    }\n",
       "\n",
       "    .dataframe tbody tr th {\n",
       "        vertical-align: top;\n",
       "    }\n",
       "\n",
       "    .dataframe thead th {\n",
       "        text-align: right;\n",
       "    }\n",
       "</style>\n",
       "<table border=\"1\" class=\"dataframe\">\n",
       "  <thead>\n",
       "    <tr style=\"text-align: right;\">\n",
       "      <th></th>\n",
       "      <th>LargeCap</th>\n",
       "    </tr>\n",
       "  </thead>\n",
       "  <tbody>\n",
       "    <tr>\n",
       "      <th>1926-07</th>\n",
       "      <td>0.000000</td>\n",
       "    </tr>\n",
       "    <tr>\n",
       "      <th>1926-08</th>\n",
       "      <td>0.000000</td>\n",
       "    </tr>\n",
       "    <tr>\n",
       "      <th>1926-09</th>\n",
       "      <td>0.000000</td>\n",
       "    </tr>\n",
       "    <tr>\n",
       "      <th>1926-10</th>\n",
       "      <td>-0.024300</td>\n",
       "    </tr>\n",
       "    <tr>\n",
       "      <th>1926-11</th>\n",
       "      <td>0.000000</td>\n",
       "    </tr>\n",
       "    <tr>\n",
       "      <th>...</th>\n",
       "      <td>...</td>\n",
       "    </tr>\n",
       "    <tr>\n",
       "      <th>2018-08</th>\n",
       "      <td>0.000000</td>\n",
       "    </tr>\n",
       "    <tr>\n",
       "      <th>2018-09</th>\n",
       "      <td>0.000000</td>\n",
       "    </tr>\n",
       "    <tr>\n",
       "      <th>2018-10</th>\n",
       "      <td>-0.065700</td>\n",
       "    </tr>\n",
       "    <tr>\n",
       "      <th>2018-11</th>\n",
       "      <td>-0.042062</td>\n",
       "    </tr>\n",
       "    <tr>\n",
       "      <th>2018-12</th>\n",
       "      <td>-0.127319</td>\n",
       "    </tr>\n",
       "  </tbody>\n",
       "</table>\n",
       "<p>1110 rows × 1 columns</p>\n",
       "</div>"
      ],
      "text/plain": [
       "         LargeCap\n",
       "1926-07  0.000000\n",
       "1926-08  0.000000\n",
       "1926-09  0.000000\n",
       "1926-10 -0.024300\n",
       "1926-11  0.000000\n",
       "...           ...\n",
       "2018-08  0.000000\n",
       "2018-09  0.000000\n",
       "2018-10 -0.065700\n",
       "2018-11 -0.042062\n",
       "2018-12 -0.127319\n",
       "\n",
       "[1110 rows x 1 columns]"
      ]
     },
     "execution_count": 155,
     "metadata": {},
     "output_type": "execute_result"
    }
   ],
   "source": [
    "highCap_serie.drawdowns()"
   ]
  },
  {
   "cell_type": "code",
   "execution_count": 176,
   "id": "4beb8e4c-b225-4920-ae57-988ca2bc8509",
   "metadata": {},
   "outputs": [
    {
     "data": {
      "text/plain": [
       "<AxesSubplot:>"
      ]
     },
     "execution_count": 176,
     "metadata": {},
     "output_type": "execute_result"
    },
    {
     "data": {
      "image/png": "[encoded data removed]",
      "text/plain": [
       "<Figure size 640x480 with 1 Axes>"
      ]
     },
     "metadata": {},
     "output_type": "display_data"
    }
   ],
   "source": [
    "highCap_serie.df().plot()"
   ]
  },
  {
   "cell_type": "markdown",
   "id": "3a7b2ab0-cf0e-4746-bad4-d686b7360250",
   "metadata": {},
   "source": [
    "# Devitiation from normality"
   ]
  },
  {
   "cell_type": "code",
   "execution_count": 197,
   "id": "06328a56-f956-414b-abfc-3fd1e15444f6",
   "metadata": {},
   "outputs": [
    {
     "data": {
      "text/plain": [
       "LargeCap    0.038171\n",
       "dtype: float64"
      ]
     },
     "execution_count": 197,
     "metadata": {},
     "output_type": "execute_result"
    }
   ],
   "source": [
    "highCap_serie.semi_deviation()"
   ]
  },
  {
   "cell_type": "code",
   "execution_count": 198,
   "id": "6ce44828-6165-49f0-bd07-663f2c07859e",
   "metadata": {},
   "outputs": [
    {
     "data": {
      "text/plain": [
       "LargeCap    0.233761\n",
       "dtype: float64"
      ]
     },
     "execution_count": 198,
     "metadata": {},
     "output_type": "execute_result"
    }
   ],
   "source": [
    "highCap_serie.skew()"
   ]
  },
  {
   "cell_type": "code",
   "execution_count": 199,
   "id": "18bbbe18-dd9e-42f1-8ff4-5edf9fa5b7d8",
   "metadata": {},
   "outputs": [
    {
     "data": {
      "text/plain": [
       "LargeCap    0.23313\n",
       "dtype: float64"
      ]
     },
     "execution_count": 199,
     "metadata": {},
     "output_type": "execute_result"
    }
   ],
   "source": [
    "((highCap_serie - highCap_serie.mean())**3).mean() / highCap_serie.var()**(3/2)"
   ]
  },
  {
   "cell_type": "code",
   "execution_count": 200,
   "id": "18d495e7-5af6-48cc-8b92-fe29182273d7",
   "metadata": {},
   "outputs": [
    {
     "data": {
      "text/plain": [
       "LargeCap    7.734852\n",
       "dtype: float64"
      ]
     },
     "execution_count": 200,
     "metadata": {},
     "output_type": "execute_result"
    }
   ],
   "source": [
    "highCap_serie.kurt()"
   ]
  },
  {
   "cell_type": "code",
   "execution_count": 201,
   "id": "3d9c62fa-a5c5-49a8-a35f-edd8fdb9f9d1",
   "metadata": {},
   "outputs": [
    {
     "data": {
      "text/plain": [
       "LargeCap    10.675393\n",
       "dtype: float64"
      ]
     },
     "execution_count": 201,
     "metadata": {},
     "output_type": "execute_result"
    }
   ],
   "source": [
    "((highCap_serie - highCap_serie.mean())**4).mean() / highCap_serie.var()**2"
   ]
  },
  {
   "cell_type": "code",
   "execution_count": null,
   "id": "9ce1924e-adef-489d-ba85-3c5ff350b038",
   "metadata": {},
   "outputs": [],
   "source": []
  }
 ],
 "metadata": {
  "kernelspec": {
   "display_name": "Python 3 (ipykernel)",
   "language": "python",
   "name": "python3"
  },
  "language_info": {
   "codemirror_mode": {
    "name": "ipython",
    "version": 3
   },
   "file_extension": ".py",
   "mimetype": "text/x-python",
   "name": "python",
   "nbconvert_exporter": "python",
   "pygments_lexer": "ipython3",
   "version": "3.9.12"
  }
 },
 "nbformat": 4,
 "nbformat_minor": 5
}
